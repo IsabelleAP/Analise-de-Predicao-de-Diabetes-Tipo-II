{
 "cells": [
  {
   "cell_type": "code",
   "execution_count": null,
   "id": "9a46ec6b",
   "metadata": {},
   "outputs": [],
   "source": [
    "# Definindo a matriz de atributos\n",
    "X = df.iloc[:,1:22]\n",
    "#print(X)\n",
    "# Definindo o vetor classe\n",
    "y = df.iloc[:, 0]\n",
    "#print(y)"
   ]
  },
  {
   "cell_type": "code",
   "execution_count": null,
   "id": "dc920cec",
   "metadata": {},
   "outputs": [],
   "source": [
    "counts_y = y.value_counts()\n",
    "print(counts_y)"
   ]
  },
  {
   "cell_type": "markdown",
   "id": "2ae4d40d",
   "metadata": {},
   "source": [
    "#############################\n",
    "####### SEM BALANCEAR #######\n",
    "#############################"
   ]
  },
  {
   "cell_type": "code",
   "execution_count": null,
   "id": "7273ae59",
   "metadata": {},
   "outputs": [],
   "source": [
    "from mlxtend.plotting import scatterplotmatrix\n",
    "names = df.columns [0:22]\n",
    "fig,axes = scatterplotmatrix(X[y==0].values, figsize=(50, 50), alpha=0.5)\n",
    "fig,axes = scatterplotmatrix(X[y==1].values, fig_axes=(fig, axes), alpha=0.5)\n",
    "fig,axes = scatterplotmatrix(X[y==2].values, fig_axes=(fig, axes), alpha=0.5, names=names)\n",
    "\n",
    "plt.tight_layout()\n",
    "plt.legend(labels=['O', '1', '2'])\n",
    "plt.show()"
   ]
  },
  {
   "cell_type": "code",
   "execution_count": null,
   "id": "eec6d5b9",
   "metadata": {},
   "outputs": [],
   "source": [
    "###### OUTLIERS ########\n",
    "\n",
    "# Detecção de outliers baseada em quantis\n",
    "# De acordo com Tukey (1977) e Bruce, Bruce & Gedeck (2020):\n",
    "# Valores abaixo de Q1 - 1.5 * IQR podem ser considerados outliers inferiores e\n",
    "# Valores acima de Q3 + 1.5 * IQR podem ser considerados outliers superiores\n",
    "\n",
    "# Loop sobre todas as colunas (atributos + classe)\n",
    "for coluna in df.columns:\n",
    "\n",
    "    Q1 = df[coluna].quantile(0.25) # Primeiro quantil\n",
    "    Q3 = df[coluna].quantile(0.75) # Terceiro quantil\n",
    "    IQR = Q3 - Q1 # InterQuartile Range\n",
    "\n",
    "    limite_inferior = Q1 - 1.5 * IQR # Outliers inferiores\n",
    "    limite_superior = Q3 + 1.5 * IQR # Outliers superiores\n",
    "\n",
    "    plt.figure(figsize=(8, 4))\n",
    "    sns.boxplot(x=df_iris[coluna], color='#63b882')\n",
    "\n",
    "    plt.axvline(Q1, color='blue', linestyle='--', label='Q1')\n",
    "    plt.axvline(Q3, color='brown', linestyle='--', label='Q3')\n",
    "    plt.axvline(limite_inferior, color='red', linestyle=':', label='Limite Inferior (Q1 - 1.5×IQR)')\n",
    "    plt.axvline(limite_superior, color='black', linestyle=':', label='Limite Superior (Q3 + 1.5×IQR)')\n",
    "\n",
    "    plt.title(f'Detecção de outliers - {coluna}', fontsize=14)\n",
    "    plt.legend(loc='upper right')\n",
    "    plt.tight_layout()\n",
    "    plt.show()\n"
   ]
  },
  {
   "cell_type": "code",
   "execution_count": null,
   "id": "cb216d17",
   "metadata": {},
   "outputs": [],
   "source": [
    "from sklearn.linear_model import LinearRegresison\n",
    "\n",
    "model = LinearRegression()\n",
    "model.fit(X,y)\n",
    "\n",
    "#coef_ mostra o peso de cada feature\n",
    "coef = model.coef_\n",
    "\n",
    "feat_weights = pd.DataFrame({\n",
    "    'Feature': X.columns,\n",
    "    'Peso': coef\n",
    "}).sort_values('Peso',key=abs, ascending=False)\n",
    "\n",
    "print(feat_weights)"
   ]
  },
  {
   "cell_type": "code",
   "execution_count": null,
   "id": "01c0dd23",
   "metadata": {},
   "outputs": [],
   "source": [
    "##boxplot de todas as colunas\n",
    "#fig, ax = plt.subplots(figsize=(8, 6))\n",
    "\n",
    "#ax.boxplot(df[''], patch_artist=True, boxprops=dict(facecolor='green'))\n",
    "#ax.set_title('Boxplot')\n",
    "\n",
    "#ax.grid(False)\n",
    "\n",
    "#plt.tight_layout()\n",
    "\n",
    "#plt.show()"
   ]
  },
  {
   "cell_type": "code",
   "execution_count": null,
   "id": "830edf71",
   "metadata": {},
   "outputs": [],
   "source": []
  }
 ],
 "metadata": {
  "language_info": {
   "name": "python"
  }
 },
 "nbformat": 4,
 "nbformat_minor": 5
}
